{
 "cells": [
  {
   "cell_type": "code",
   "execution_count": 1,
   "metadata": {},
   "outputs": [],
   "source": [
    "from llama_index.llms.ollama import Ollama\n",
    "\n",
    "llm = Ollama(model=\"gemma:2b\", request_timeout=30.0)"
   ]
  },
  {
   "cell_type": "code",
   "execution_count": 3,
   "metadata": {},
   "outputs": [
    {
     "name": "stdout",
     "output_type": "stream",
     "text": [
      "model='gemma:2b' created_at='2025-04-12T02:16:29.070369Z' done=True done_reason='stop' total_duration=9045059792 load_duration=38261000 prompt_eval_count=27 prompt_eval_duration=66000000 eval_count=472 eval_duration=8940000000 message=Message(role='assistant', content=\"Sure! Here's a summary of Harry Potter and the Sorcerer's Stone:\\n\\n**Harry Potter and the Sorcerer's Stone** is the first book in J.K. Rowling's popular series of fantasy novels. The book introduces us to the magical world of Hogwarts School of Witchcraft and Wizardry, where young Harry Potter discovers he is a wizard and has a connection to the legendary Sorcerer's Stone.\\n\\n**The story begins with Harry's life in the small town of Little Whington:**\\n\\n* He is an orphaned 11-year-old who is sent to live with his relatives in the bustling city of London.\\n* At school, he is sorted into Slytherin, a house known for cunning and manipulation.\\n* Harry quickly makes friends and becomes engrossed in Quidditch, the school's magical Quidditch team.\\n* He also faces challenges, including a bully named Draco Malfoy and a prejudiced teacher, Severus Snape.\\n\\n**The story takes a dramatic turn when Harry receives a letter inviting him to attend Hogwarts:**\\n\\n* He learns about the history of the school, the secrets of the Philosopher's Stone, and his potential connection to Voldemort, a dark wizard who destroyed the Philosopher's Stone centuries ago.\\n* Harry is ecstatic about this opportunity to learn about his family's legacy and protect the Philosopher's Stone.\\n\\n**Key events and characters in the book include:**\\n\\n* **Harry Potter:** The protagonist, a young wizard who discovers his magical abilities.\\n* **Hermione Granger:** A brilliant and studious student who befriends Harry and becomes his trusted companion.\\n* **Ron Weasley:** A loyal and hardworking friend of Harry's, who also shares a passion for Quidditch.\\n* **Voldemort:** The main antagonist, a cunning and powerful dark wizard who seeks to regain the Philosopher's Stone.\\n* **Professor Dumbledore:** The headmaster of Hogwarts, a wise and compassionate figure who guides Harry on his magical journey.\\n\\n**The Sorcerer's Stone is a popular and enduring book that has captivated readers of all ages.** It explores themes of friendship, courage, sacrifice, and the importance of protecting what is dear to us. The book has spawned numerous sequels, movies, and merchandise, solidifying its status as a literary phenomenon.\", images=None, tool_calls=None)\n",
      "token_counts={'prompt_tokens': 27, 'completion_tokens': 472, 'total_tokens': 499}\n"
     ]
    },
    {
     "data": {
      "text/markdown": [
       "<b>Sure! Here's a summary of Harry Potter and the Sorcerer's Stone:\n",
       "\n",
       "**Harry Potter and the Sorcerer's Stone** is the first book in J.K. Rowling's popular series of fantasy novels. The book introduces us to the magical world of Hogwarts School of Witchcraft and Wizardry, where young Harry Potter discovers he is a wizard and has a connection to the legendary Sorcerer's Stone.\n",
       "\n",
       "**The story begins with Harry's life in the small town of Little Whington:**\n",
       "\n",
       "* He is an orphaned 11-year-old who is sent to live with his relatives in the bustling city of London.\n",
       "* At school, he is sorted into Slytherin, a house known for cunning and manipulation.\n",
       "* Harry quickly makes friends and becomes engrossed in Quidditch, the school's magical Quidditch team.\n",
       "* He also faces challenges, including a bully named Draco Malfoy and a prejudiced teacher, Severus Snape.\n",
       "\n",
       "**The story takes a dramatic turn when Harry receives a letter inviting him to attend Hogwarts:**\n",
       "\n",
       "* He learns about the history of the school, the secrets of the Philosopher's Stone, and his potential connection to Voldemort, a dark wizard who destroyed the Philosopher's Stone centuries ago.\n",
       "* Harry is ecstatic about this opportunity to learn about his family's legacy and protect the Philosopher's Stone.\n",
       "\n",
       "**Key events and characters in the book include:**\n",
       "\n",
       "* **Harry Potter:** The protagonist, a young wizard who discovers his magical abilities.\n",
       "* **Hermione Granger:** A brilliant and studious student who befriends Harry and becomes his trusted companion.\n",
       "* **Ron Weasley:** A loyal and hardworking friend of Harry's, who also shares a passion for Quidditch.\n",
       "* **Voldemort:** The main antagonist, a cunning and powerful dark wizard who seeks to regain the Philosopher's Stone.\n",
       "* **Professor Dumbledore:** The headmaster of Hogwarts, a wise and compassionate figure who guides Harry on his magical journey.\n",
       "\n",
       "**The Sorcerer's Stone is a popular and enduring book that has captivated readers of all ages.** It explores themes of friendship, courage, sacrifice, and the importance of protecting what is dear to us. The book has spawned numerous sequels, movies, and merchandise, solidifying its status as a literary phenomenon.</b>"
      ],
      "text/plain": [
       "<IPython.core.display.Markdown object>"
      ]
     },
     "metadata": {},
     "output_type": "display_data"
    }
   ],
   "source": [
    "query = \"tell me about harry potter\"\n",
    "\n",
    "external_response = llm.complete(query)\n",
    "\n",
    "from IPython.display import Markdown, display\n",
    "# print(external_response)\n",
    "display(Markdown(f\"<b>{external_response}</b>\"))"
   ]
  },
  {
   "cell_type": "code",
   "execution_count": 3,
   "metadata": {},
   "outputs": [
    {
     "name": "stdout",
     "output_type": "stream",
     "text": [
      "Harry Potter is a beloved fantasy novel series written by J.K. Rowling. The story follows the journey of Harry Potter, an orphaned boy who discovers on his eleventh birthday that he is a wizard. He is invited to Hogwarts School of Witchcraft and Wizardry, where he meets his best friends, Ron Weasley and Hermione Granger.\n",
      "\n",
      "**The story:**\n",
      "\n",
      "* **The Boy Who Lived:** The first book, \"Harry Potter and the Sorcerer's Stone,\" tells the story of Harry's first year at Hogwarts. He learns about his magical abilities, makes new friends, and faces a mysterious villain named Voldemort.\n",
      "* **The Prisoner of Azkaban:** The second book, \"Harry Potter and the Prisoner of Azkaban,\" explores themes of justice and innocence.\n",
      "* **The Order of the Phoenix:** The third book, \"Harry Potter and the Order of the Phoenix,\" introduces the concept of the Order of the Phoenix, a secret society fighting against Voldemort.\n",
      "* **The Half-Blood Prince:** The fourth book, \"Harry Potter and the Half-Blood Prince,\" introduces a mysterious new teacher and explores themes of prejudice and identity.\n",
      "* **Deathly Hallows:** The seventh book, \"Harry Potter and the Deathly Hallows,\" brings the story to a close, with a final battle against Voldemort and the defeat of evil.\n",
      "\n",
      "**The characters:**\n",
      "\n",
      "* **Harry Potter:** The protagonist, a young orphan who discovers he is a wizard. He is brave, loyal, and always willing to fight for what he believes is right.\n",
      "* **Ron Weasley:** Harry's best friend, a goofy but lovable wizard who is known for his humor and unwavering loyalty.\n",
      "* **Hermione Granger:** Harry's other best friend, a brilliant witch with a sharp mind and a strong moral compass.\n",
      "* **Voldemort:** The main antagonist, a dark wizard who seeks to establish his power and control.\n",
      "* **Albus Dumbledore:** The headmaster of Hogwarts, a powerful and enigmatic figure.\n",
      "\n",
      "**The impact:**\n",
      "\n",
      "The Harry Potter series has been a global phenomenon, selling millions of copies worldwide. It has been adapted into numerous films, and the characters have become household names. The story has also inspired countless other writers and artists.\n",
      "\n",
      "**Overall, Harry Potter is a captivating story about love, friendship, and the power of good against evil.**\n"
     ]
    }
   ],
   "source": [
    "query = \"tell me about harry potter\"\n",
    "\n",
    "external_response = llm.complete(query)\n",
    "print(external_response)"
   ]
  }
 ],
 "metadata": {
  "kernelspec": {
   "display_name": "memary",
   "language": "python",
   "name": "python3"
  },
  "language_info": {
   "codemirror_mode": {
    "name": "ipython",
    "version": 3
   },
   "file_extension": ".py",
   "mimetype": "text/x-python",
   "name": "python",
   "nbconvert_exporter": "python",
   "pygments_lexer": "ipython3",
   "version": "3.10.16"
  }
 },
 "nbformat": 4,
 "nbformat_minor": 2
}
