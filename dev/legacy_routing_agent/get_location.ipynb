{
 "cells": [
  {
   "cell_type": "code",
   "execution_count": null,
   "metadata": {},
   "outputs": [],
   "source": [
    "%pip install geopy"
   ]
  },
  {
   "cell_type": "code",
   "execution_count": null,
   "metadata": {},
   "outputs": [],
   "source": [
    "# https://github.com/mediagis/nominatim-docker/tree/master/5.1\n",
    "\n",
    "# docker run -it --rm \\\n",
    "#   -e PBF_URL=https://download.geofabrik.de/europe/monaco-latest.osm.pbf \\\n",
    "#   -e REPLICATION_URL=https://download.geofabrik.de/europe/monaco-updates/ \\\n",
    "#   -p 8080:8080 \\\n",
    "#   --name nominatim \\\n",
    "#   mediagis/nominatim:5.1"
   ]
  },
  {
   "cell_type": "code",
   "execution_count": null,
   "metadata": {},
   "outputs": [],
   "source": [
    "import requests\n",
    "from geopy.geocoders import Nominatim\n",
    "\n",
    "def get_location():\n",
    "    try:\n",
    "        # Fetch location data from ip-api\n",
    "        ip_url = 'http://ip-api.com/json/'\n",
    "        response = requests.get(ip_url)\n",
    "        data = response.json()\n",
    "\n",
    "        # Check if the response is successful\n",
    "        if data['status'] == 'success':\n",
    "            latitude = data['lat']\n",
    "            longitude = data['lon']\n",
    "\n",
    "            # Use geopy to get more detailed location data\n",
    "            geolocator = Nominatim(user_agent=\"geoapiExercises\", domain=\"localhost:8080\", scheme=\"http\")\n",
    "            location = geolocator.reverse(f\"{latitude}, {longitude}\", exactly_one=True)\n",
    "            if location:\n",
    "                print(f\"location: {location}\")\n",
    "                return location.latitude, location.longitude\n",
    "            else:\n",
    "                return latitude, longitude\n",
    "        else:\n",
    "            return \"Location could not be determined using IP.\", \"\"\n",
    "\n",
    "    except Exception as e:\n",
    "        return f\"An error occurred: {e}\", \"\"\n",
    "\n",
    "latitude, longitude = get_location()\n",
    "if latitude and longitude:\n",
    "    print(f\"Current Latitude: {latitude}\")\n",
    "    print(f\"Current Longitude: {longitude}\")\n",
    "else:\n",
    "    print(latitude)  # This would print the error message if location could not be determined\n"
   ]
  },
  {
   "cell_type": "code",
   "execution_count": null,
   "metadata": {},
   "outputs": [],
   "source": [
    "geolocator = Nominatim(user_agent=\"geoapiExercises\", domain=\"localhost:8080\", scheme=\"http\")\n",
    "location = geolocator.reverse(f\"{latitude}, {longitude}\", exactly_one=True)\n",
    "location"
   ]
  },
  {
   "cell_type": "code",
   "execution_count": null,
   "metadata": {},
   "outputs": [],
   "source": []
  }
 ],
 "metadata": {
  "kernelspec": {
   "display_name": "memary",
   "language": "python",
   "name": "python3"
  },
  "language_info": {
   "codemirror_mode": {
    "name": "ipython",
    "version": 3
   },
   "file_extension": ".py",
   "mimetype": "text/x-python",
   "name": "python",
   "nbconvert_exporter": "python",
   "pygments_lexer": "ipython3",
   "version": "3.10.16"
  }
 },
 "nbformat": 4,
 "nbformat_minor": 2
}
